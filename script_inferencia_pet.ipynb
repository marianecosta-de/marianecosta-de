{
  "cells": [
    {
      "cell_type": "markdown",
      "metadata": {
        "id": "view-in-github",
        "colab_type": "text"
      },
      "source": [
        "<a href=\"https://colab.research.google.com/github/marianecosta-de/marianecosta-de/blob/main/script_inferencia_pet.ipynb\" target=\"_parent\"><img src=\"https://colab.research.google.com/assets/colab-badge.svg\" alt=\"Open In Colab\"/></a>"
      ]
    },
    {
      "cell_type": "markdown",
      "source": [
        "# Informações básicas\n",
        "Script para enviar dados de Inferência Pet para MParticle -> Braze.\n",
        "- O código itera sobre cada unique_id (ID único) encontrado nos dados.\n",
        "Para cada `unique_id` ele filtra o `json_array` para encontrar todas as linhas que possuem o mesmo ID.\n",
        "- Em seguida, para cada linha correspondente, a função map_dict é aplicada para obter um dicionário filtrado.\n",
        "Os dicionários filtrados são adicionados a uma lista chamada requests_data, que é usada para construir a \"carga útil\" (todos os resultados relacionados ao mesmo public_id - mesmo que em linhas diferentes -) das requisições.\n",
        "\n",
        "- Em resumo, o script lê os dados de um CSV, transforma e manipula um JSON e por fim, na mesma requisição (para os dados não sobrescreverem) envia todas as informações atreladas ao public_id.\n",
        "\n",
        "https://petlove.atlassian.net/wiki/spaces/MS/pages/765198337/Infer+ncia+Pet"
      ],
      "metadata": {
        "id": "EI_hWwfUhAnM"
      },
      "id": "EI_hWwfUhAnM"
    },
    {
      "cell_type": "code",
      "execution_count": 17,
      "id": "74c99c37",
      "metadata": {
        "id": "74c99c37"
      },
      "outputs": [],
      "source": [
        "import pandas as pd\n",
        "import json\n",
        "from google.colab import drive\n",
        "#drive.mount('/content/drive')"
      ]
    },
    {
      "cell_type": "code",
      "execution_count": 24,
      "id": "aa2530ef",
      "metadata": {
        "id": "aa2530ef"
      },
      "outputs": [],
      "source": [
        "df = pd.read_csv(\"\", sep=',') #adicionar nome do arquivo .csv\n",
        "json_array = (json.loads(df.to_json(orient='records')))\n",
        "\n",
        "endpoint = 'https://rest.iad-06.braze.com/users/track' #endpoint\n",
        "api_key = 'ec7b57cf-1a89-4810-b822-7589c8c258d8' #api_key de prod\n",
        "api_key_stag = 'fe69fb06-f5be-4d1f-88d2-38209aff6092'\n",
        "\n",
        "retry = 0\n",
        "contador = 1\n",
        "total_public_ids = df[\"public_id\"].count()"
      ]
    },
    {
      "cell_type": "code",
      "source": [
        "import time\n",
        "import requests\n",
        "\n",
        "\n",
        "retry_attempts = 3\n",
        "retry_delay = 300  # 5 minutes in seconds\n",
        "field_length = 255  # Maximum number of characters in each field\n",
        "\n",
        "json_array = json.loads(df.to_json(orient='records'))\n",
        "unique_ids = list(set([ client[\"public_id\"] for client in json_array ]))\n",
        "\n",
        "def map_dict(line):\n",
        "  return {\n",
        "    \"pet_species\": line[\"pet_species\"],\n",
        "    \"pet_port\": line[\"pet_port\"],\n",
        "    \"pet_age\": line[\"pet_age\"],\n",
        "    \"pet_castrated\": line[\"pet_castrated\"]\n",
        "  }\n",
        "\n",
        "requests_data = []\n",
        "\n",
        "for unique_id in unique_ids:\n",
        "  # Get every line that matches the current unique_id\n",
        "  matches = [ map_dict(line) for line in json_array if line[\"public_id\"] == unique_id ]\n",
        "\n",
        "  requests_data.append({\n",
        "      \"attributes\": [{\n",
        "        \"external_id\": unique_id,\n",
        "        \"pet_infered_test\": matches\n",
        "    }]\n",
        "  })"
      ],
      "metadata": {
        "id": "q_PlCAkY-sIG"
      },
      "id": "q_PlCAkY-sIG",
      "execution_count": 25,
      "outputs": []
    },
    {
      "cell_type": "code",
      "source": [
        "for payload in requests_data:\n",
        "\n",
        "  json_payload = json.dumps(payload)\n",
        "  headers = {\n",
        "    'Content-Type': 'application/json',\n",
        "    'Authorization': f'Bearer {api_key_stag}'\n",
        "  }\n",
        "\n",
        "  for attempt in range(1, retry_attempts + 1):\n",
        "    try:\n",
        "      with requests.post(endpoint, data=json_payload, headers=headers) as response:\n",
        "          response.raise_for_status()\n",
        "      print(f\"Upload efetuado {contador}/{total_public_ids}\")\n",
        "      contador += 1\n",
        "      break\n",
        "    except requests.exceptions.RequestException as err:\n",
        "      if attempt < retry_attempts:\n",
        "          print(f\"Erro encontrado, tentando novamente em {retry_delay} segundos...\")\n",
        "          print(f\"Data enviado: {json_payload}\")\n",
        "          time.sleep(retry_delay)\n",
        "      else:\n",
        "          print(\"Máximo de tentativas atingido. Desistindo.\")\n",
        "          print(f\"Data enviado: {json_payload}\")\n",
        "          print(f\"Erro: {err}\")"
      ],
      "metadata": {
        "id": "xw6hXBoDaq5M"
      },
      "id": "xw6hXBoDaq5M",
      "execution_count": null,
      "outputs": []
    }
  ],
  "metadata": {
    "kernelspec": {
      "display_name": "Python 3 (ipykernel)",
      "language": "python",
      "name": "python3"
    },
    "language_info": {
      "codemirror_mode": {
        "name": "ipython",
        "version": 3
      },
      "file_extension": ".py",
      "mimetype": "text/x-python",
      "name": "python",
      "nbconvert_exporter": "python",
      "pygments_lexer": "ipython3",
      "version": "3.8.10"
    },
    "colab": {
      "provenance": [],
      "include_colab_link": true
    }
  },
  "nbformat": 4,
  "nbformat_minor": 5
}